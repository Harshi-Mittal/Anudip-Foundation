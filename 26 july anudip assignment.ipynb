{
 "cells": [
  {
   "cell_type": "code",
   "execution_count": 2,
   "id": "3bddac8c",
   "metadata": {},
   "outputs": [
    {
     "name": "stdout",
     "output_type": "stream",
     "text": [
      "NumPy Array:\n",
      "[1 2 3 4 5]\n",
      "First element: 1\n",
      "Last element: 5\n",
      "Array after doubling each element:\n",
      "[ 2  4  6  8 10]\n"
     ]
    }
   ],
   "source": [
    "#convert the below list into numpy array then display the array \n",
    "#then display the array then display the first and last index and then multiply each element by 2 \n",
    "#and display the result   \n",
    "#input: my_list=[1,2,3,4,5]   output: first element:1  last element:5   array after doubling each element:[2,4,6,8,10]\n",
    "import numpy as np\n",
    "my_list = [1, 2, 3, 4, 5]\n",
    "my_array = np.array(my_list)\n",
    "print(\"NumPy Array:\")\n",
    "print(my_array)\n",
    "first_element = my_array[0]\n",
    "last_element = my_array[-1]\n",
    "print(f\"First element: {first_element}\")\n",
    "print(f\"Last element: {last_element}\")\n",
    "doubled_array = my_array * 2\n",
    "print(\"Array after doubling each element:\")\n",
    "print(doubled_array)\n"
   ]
  },
  {
   "cell_type": "code",
   "execution_count": 3,
   "id": "863c976e",
   "metadata": {},
   "outputs": [
    {
     "name": "stdout",
     "output_type": "stream",
     "text": [
      "An array of 10 zeros:\n",
      "[0 0 0 0 0 0 0 0 0 0]\n",
      "\n",
      "An array of 10 ones:\n",
      "[1 1 1 1 1 1 1 1 1 1]\n",
      "\n",
      "An array of 10 fives:\n",
      "[5 5 5 5 5 5 5 5 5 5]\n"
     ]
    }
   ],
   "source": [
    "#write a numpy program to create an array of 10 zeros,10 ones , and 10 fives.    \n",
    "#sample output:    an array of 10 zeros: [0,0,0,0,0,0,0,0,0,0]     an array of 10 ones: [1,1,1,1,1,1,1,1,1,1]   an array of 10 fives:   [5,5,5,5,5,5,5,5,5,5]\n",
    "import numpy as np\n",
    "zeros_array = np.zeros(10, dtype=int)\n",
    "print(\"An array of 10 zeros:\")\n",
    "print(zeros_array)\n",
    "ones_array = np.ones(10, dtype=int)\n",
    "print(\"\\nAn array of 10 ones:\")\n",
    "print(ones_array)\n",
    "fives_array = np.full(10, 5, dtype=int)\n",
    "print(\"\\nAn array of 10 fives:\")\n",
    "print(fives_array)\n"
   ]
  },
  {
   "cell_type": "code",
   "execution_count": 4,
   "id": "43974c11",
   "metadata": {},
   "outputs": [
    {
     "name": "stdout",
     "output_type": "stream",
     "text": [
      "3x3 Matrix with values ranging from 2 to 10:\n",
      "[[ 2  3  4]\n",
      " [ 5  6  7]\n",
      " [ 8  9 10]]\n"
     ]
    }
   ],
   "source": [
    "#write a numpy program to create a 3*3 matrix with values ranging from 2 to 10 \n",
    "import numpy as np\n",
    "values = np.arange(2, 11)\n",
    "matrix = values.reshape(3, 3)\n",
    "print(\"3x3 Matrix with values ranging from 2 to 10:\")\n",
    "print(matrix)"
   ]
  },
  {
   "cell_type": "code",
   "execution_count": null,
   "id": "24a3af49",
   "metadata": {},
   "outputs": [],
   "source": []
  }
 ],
 "metadata": {
  "kernelspec": {
   "display_name": "Python 3 (ipykernel)",
   "language": "python",
   "name": "python3"
  },
  "language_info": {
   "codemirror_mode": {
    "name": "ipython",
    "version": 3
   },
   "file_extension": ".py",
   "mimetype": "text/x-python",
   "name": "python",
   "nbconvert_exporter": "python",
   "pygments_lexer": "ipython3",
   "version": "3.11.4"
  }
 },
 "nbformat": 4,
 "nbformat_minor": 5
}
